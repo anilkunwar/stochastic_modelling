{
 "cells": [
  {
   "cell_type": "markdown",
   "metadata": {},
   "source": [
    "# Bootstrap filter\n",
    "Reference <br>\n",
    "- https://www.cs.ubc.ca/~arnaud/doucet_johansen_tutorialPF.pdf\n",
    "- https://link.springer.com/chapter/10.1007/978-1-4757-3437-9_1\n",
    "- https://stats.stackexchange.com/questions/237468/bootstrap-filter-particle-filter-algorithmunderstanding\n",
    "\n",
    "This technique is used to infere unobserved random variable $X$ using the observations $Y$. For example, the $X$ could be our temperature values and $Y$ could be some measurements of these temperatures using a sensore with some noise.\n",
    "\n",
    "- **Transitions**:\n",
    "$X_t/X_{t-1} \\sim f(x_t/x_{t-1})$\n",
    "\n",
    "- **Observations**:\n",
    "$Y_t/X_{t} \\sim g(y_t/x_{t})$\n",
    "\n",
    "- **Initial state** :\n",
    "$X_0  \\sim \\mu(x_0)$"
   ]
  },
  {
   "cell_type": "markdown",
   "metadata": {},
   "source": [
    "Here, bootstrap filter is applied to the following example:\n",
    "\n",
    "- Transitions:\n",
    " $X_t/X_{t-1} \\sim N(x_{t-1},\\sigma_f)$\n",
    "\n",
    "- Observations:\n",
    "$Y_t/X_{t} \\sim N(y_t,\\sigma_g)$\n",
    "\n",
    "- Initial state:\n",
    "$X_0  \\sim N(\\mu_0,\\sigma_{\\mu})$"
   ]
  },
  {
   "cell_type": "code",
   "execution_count": 26,
   "metadata": {},
   "outputs": [],
   "source": [
    "# import\n",
    "import numpy as np\n",
    "import matplotlib.pyplot as plt\n",
    "import matplotlib\n",
    "import matplotlib.patches as patches\n",
    "import seaborn as sns\n",
    "import scipy as sp\n",
    "from scipy.stats import norm\n",
    "from scipy import linalg\n",
    "from scipy.stats import halfnorm\n",
    "from ipywidgets import interactive\n",
    "from IPython.display import clear_output\n",
    "import timeit\n",
    "#%matplotlib inline"
   ]
  },
  {
   "cell_type": "code",
   "execution_count": 27,
   "metadata": {},
   "outputs": [],
   "source": [
    "#set figure defaults for IPython notebook \n",
    "#matplotlib.rcParams.update({'font.size': 18, 'lines.linewidth':4})"
   ]
  },
  {
   "cell_type": "markdown",
   "metadata": {},
   "source": [
    "# A prelimanary example , 1-node\n",
    "\n",
    "Infering the temperature at a location:\n",
    "- given initial distirbution of temperature at that location\n",
    "- Noisy measurements of temperature at that location\n",
    "- Transition distirbution of tmeperature at a time given the previous time step temperature value\n",
    "\n",
    "Inputs: <br>\n",
    "- sensor measurements variance\n",
    "- transition variance\n",
    "- initial distibution mean and variance\n",
    "\n",
    "Assumptions:\n",
    "- Distirbutions are normal\n",
    "\n",
    "Output:\n",
    "- Infering mean and variance of state variable"
   ]
  },
  {
   "cell_type": "markdown",
   "metadata": {},
   "source": [
    "**A visualization function**"
   ]
  },
  {
   "cell_type": "markdown",
   "metadata": {},
   "source": [
    "for simple 1 node example"
   ]
  },
  {
   "cell_type": "code",
   "execution_count": 28,
   "metadata": {},
   "outputs": [],
   "source": [
    "def plot_distribution(start_t,end_t,step_t,t_out,X_true,obs,Sample,pred):\n",
    "    plt.figure(figsize=(10,5))\n",
    "    plt.plot(list(np.arange(start_t,end_t+step_t,step_t)),X_true, color='red', linewidth = 2, label = 'True X')\n",
    "    plt.scatter(list(np.arange(start_t,end_t+step_t,step_t)),obs, color='blue', label = 'Observations')\n",
    "    plt.plot(list(np.arange(start_t,end_t+step_t,step_t)),pred[1:], color='green', linewidth = 2, label = 'Predictions')\n",
    "    print('Average error between true X and observations is:', round(np.sum(abs(obs-X_true))/np.sum(abs(X_true))*100,2))\n",
    "    print('Average error between true X and predicted values is:', round(np.sum(abs(pred[1:]-X_true))/np.sum(abs(X_true))*100,2))\n",
    "    plt.legend(bbox_to_anchor=(1.04,0.5), loc=\"center left\", borderaxespad=0)\n",
    "    \n",
    "    plt.figure(figsize=(10,5))\n",
    "    histogram = plt.hist(Sample[:,int((t_out-start_t)/step_t+1)], bins=int(N/100), label = \"Distribution at time {}\".format(t_out))\n",
    "    x_true_t = X_true[int((t_out-start_t)/step_t+1)] # true value at time t_out\n",
    "    obs_t = obs[int((t_out-start_t)/step_t+1)] # true value at time t_out\n",
    "    pred_t = pred[int((t_out-start_t)/step_t+1)] # prediction value at time t_out\n",
    "    plt.plot([x_true_t,x_true_t],[0,100], color='red', linewidth = 3, label = \"True value at time {}\".format(t_out))\n",
    "    plt.plot([obs_t,obs_t],[0,100], color='black', linewidth = 3, label = \"Observation at time {}\".format(t_out))\n",
    "    plt.plot([pred_t,pred_t],[0,100], color='green', linewidth = 3, label = \"Distribution mean at time {}\".format(t_out))\n",
    "    plt.legend(bbox_to_anchor=(1.04,0.5), loc=\"center left\", borderaxespad=0)"
   ]
  },
  {
   "cell_type": "markdown",
   "metadata": {},
   "source": [
    "for temperature distribution examples"
   ]
  },
  {
   "cell_type": "code",
   "execution_count": 43,
   "metadata": {},
   "outputs": [],
   "source": [
    "def plot_temp_error_shade(t,t_start,t_end,delt,Coords,T_mean,T_var,air_temp_type,\n",
    "                          T_start,T_hold,T_const,T_rate,th1,th2,T_air_sigma,T_ini,\n",
    "                          sensor_loc_typ,sensor_loc_list,Length_c,Length_t,num_el_c,num_el_t):\n",
    "    Length = Length_c + Length_t\n",
    "    num_el = num_el_c + num_el_t\n",
    "    # vizualizing mean and variacen of temperature for the rod    \n",
    "    if sensor_loc_typ == \"node\":\n",
    "        sensor_loc_n = sensor_loc_list # a list, node numbers\n",
    "        sensor_loc = [min((i-1),num_el_t) * (Length_t/num_el_t) +\n",
    "                      max(0, (i-1-num_el_t)) * (Length_c/num_el_c) for i in sensor_loc_n] \n",
    "    elif sensor_loc_typ == \"loc\":\n",
    "        sensor_loc = sensor_loc_list # a list, location of sensor (m)\n",
    "        #sensor_loc_n = [int(round(x /  (Length/num_el))) + 1 for x in sensor_loc] # sensor location node number\n",
    "        sensor_loc_n = [int(min(num_el_t, round( x / (Length_t / num_el_t)) ) +\n",
    "                            max(0, round( (x-Length_t) /  (Length_c/num_el_c))) ) + 1 for x in sensor_loc] # sensor location node number\n",
    "\n",
    "    tn = int((t-t_start)/delt)\n",
    "    plt.figure(figsize=(10,10))  \n",
    "    plt.subplot(311)\n",
    "    plt.fill_between(Coords, T_mean[:, tn]-T_var[:, tn], T_mean[:, tn]+T_var[:, tn], alpha=0.5)\n",
    "    #plt.plot(Coords, T_mean[:, tn], color = 'k', linewidth=1)\n",
    "    plt.plot(Coords[0:num_el_t+1], T_mean[0:num_el_t+1, tn], color = 'red', linewidth=1)\n",
    "    plt.plot(Coords[num_el_t:num_el_t+num_el_c+2], T_mean[num_el_t:num_el_t+num_el_c+2, tn], color = 'k', linewidth=1)\n",
    "    \n",
    "    if len(sensor_loc)>0: # if there is any sensor\n",
    "        plt.plot([sensor_loc,sensor_loc],[round(np.amin(T_mean)),round(np.amax(T_mean))*1.1]\n",
    "                 , color = 'green', linewidth=1)\n",
    "    plt.ylim([np.amin(T_mean)-np.amax(T_var),np.amax(T_mean)+np.amax(T_var)])\n",
    "    if len(sensor_loc)>0: # if there is any sensor\n",
    "        plt.title('Sensor location (shown as green line)= {} m \\nSensor is at node(s)  {}.'\n",
    "                  .format(sensor_loc, sensor_loc_n), fontsize=14, loc=\"left\")\n",
    "    plt.xlabel('location (m)')\n",
    "    plt.ylabel('Temperature (K)')\n",
    "    plt.show()\n",
    "    # air temperature evolution\n",
    "    plt.figure(figsize=(10,10))\n",
    "    plt.subplot(312)\n",
    "    T_air_arr = np.array([T_air(0,air_temp_type,T_start,T_hold,T_const,T_rate,th1,th2,T_air_sigma)])\n",
    "    for time in np.arange(t_start+delt,t_end,delt):\n",
    "        T_air_arr = np.append(T_air_arr, T_air(time,air_temp_type,T_start,T_hold,T_const,T_rate,th1,th2,T_air_sigma))         \n",
    "    plt.plot(np.arange(t_start,t_end,delt),T_air_arr)\n",
    "    plt.plot([t,t],[round(np.amax(T_air_arr)),round(np.amax(T_air_arr))*1.1], color = 'red', linewidth=1)\n",
    "    plt.xlabel('Time (s)')\n",
    "    plt.ylabel('Air temperature (K)')\n",
    "    plt.title('Current time is shown as red line', fontsize=14, loc=\"left\")\n",
    "    plt.ylim(round(T_ini[0,0])-1,round(np.amax(T_air_arr))*1.1)\n",
    "    plt.show()\n",
    "    # std at different nodes \n",
    "    plt.figure(figsize=(10,10)) \n",
    "    plt.subplot(313) \n",
    "    #plt.plot(Coords, T_var[:, tn], color = 'k', linewidth=1)\n",
    "    plt.plot(Coords[0:num_el_t+1], T_var[0:num_el_t+1, tn], color = 'red', linewidth=1)\n",
    "    plt.plot(Coords[num_el_t:num_el_t+num_el_c+2], T_var[num_el_t:num_el_t+num_el_c+2, tn], color = 'k', linewidth=1)\n",
    "    \n",
    "    if len(sensor_loc)>0: # if there is any sensor\n",
    "        plt.plot([sensor_loc,sensor_loc],[round(np.amin(T_var)),round(np.amax(T_var))*1.1]\n",
    "                 , color = 'green', linewidth=1)\n",
    "    plt.xlabel('location (m)')\n",
    "    plt.ylabel('Standard Deviation')\n",
    "    plt.ylim([np.amin(T_var),4])\n",
    "    if len(sensor_loc)>0: # if there is any sensor\n",
    "        plt.title('Sensor location (shown as green line)= {} m \\nSensor is at node(s)  {}.'\n",
    "                  .format(sensor_loc, sensor_loc_n), fontsize=14, loc=\"left\")\n",
    "    plt.show()\n",
    "\n",
    "\n"
   ]
  },
  {
   "cell_type": "markdown",
   "metadata": {},
   "source": [
    "**Inputs**\n",
    "\n",
    "- **Transitions**:\n",
    "$X_t/X_{t-1} \\sim f(x_t/x_{t-1})$\n",
    "\n",
    "- **Observations**:\n",
    "$Y_t/X_{t} \\sim g(y_t/x_{t})$\n",
    "\n",
    "- **Initial state** :\n",
    "$X_0  \\sim \\mu(x_0)$"
   ]
  },
  {
   "cell_type": "code",
   "execution_count": 29,
   "metadata": {},
   "outputs": [],
   "source": [
    "g_sigma = 120 # sensor measurements variance\n",
    "f_sigma = 20 # transition variance\n",
    "mu_sigma = 1 # initial distiribution variance\n",
    "mu_mean = 0 # initial state mean\n",
    "N= 10000 # number of samples\n",
    "start_t = 1\n",
    "end_t = 400\n",
    "step_t = 1\n",
    "t_out = 250 # time to draw the distribution of samples as an output\n",
    "n = int(int(end_t-start_t)/step_t + 1) # number os states"
   ]
  },
  {
   "cell_type": "markdown",
   "metadata": {},
   "source": [
    "**Generating synthetic data**\n",
    "- True (non-observed) temperature at the location at different time. We are trying to infere this temperature"
   ]
  },
  {
   "cell_type": "code",
   "execution_count": 30,
   "metadata": {},
   "outputs": [],
   "source": [
    "# Generating synthetic data\n",
    "X_true = np.cumsum(np.random.normal(mu_mean,f_sigma,n)) # true (unobservable) values for x\n",
    "obs = np.random.normal(X_true,g_sigma,n) # observed values"
   ]
  },
  {
   "cell_type": "markdown",
   "metadata": {},
   "source": [
    "**Bootstrap filter**"
   ]
  },
  {
   "cell_type": "code",
   "execution_count": 31,
   "metadata": {},
   "outputs": [],
   "source": [
    "# initialization, t=0\n",
    "Sample = np.zeros((N,1))\n",
    "X_0 = np.random.normal(mu_mean,mu_sigma,N) # N samples from mu ~ Normal(mu_mean,mu_sigma)\n",
    "X_0 = X_0.reshape(N,1)\n",
    "Sample[:,0] = np.array([X_0[:,0]]) # an array storing all the samples\n",
    "X_old = X_0\n",
    "for t in range(start_t,end_t+step_t,step_t):\n",
    "    f_mean = X_old.reshape(N)\n",
    "    X_new = np.random.normal(f_mean,f_sigma,N)\n",
    "    Sample = np.append(Sample,X_new.reshape(N,1),axis=1)\n",
    "    # importance sampling step \n",
    "    wnew = sp.stats.norm.pdf(obs[t-1], X_new, g_sigma) #y_pdf(g_sigma,X_new,obs[t-1])\n",
    "    Wnew = wnew / sum(wnew) # normalizing the weights\n",
    "    # selection step\n",
    "    Sample[:,t] = np.random.choice(Sample[:,t], N, p=Wnew)\n",
    "    # updating the state values\n",
    "    X_old = Sample[:,t]\n",
    "pred = np.sum(Sample,axis=0)/N # mean of our predictions"
   ]
  },
  {
   "cell_type": "markdown",
   "metadata": {},
   "source": [
    "**Predictions:**\n",
    "- Blue dots are sensors observations\n",
    "- Green line shows our prediction for temperature\n",
    "- Red line is the true (non-observed) temperature at the point (synthetic data)"
   ]
  },
  {
   "cell_type": "code",
   "execution_count": 32,
   "metadata": {},
   "outputs": [
    {
     "data": {
      "application/vnd.jupyter.widget-view+json": {
       "model_id": "8df36a3a557c4450aacc0e5ed1f79cfc",
       "version_major": 2,
       "version_minor": 0
      },
      "text/plain": [
       "interactive(children=(IntSlider(value=1, description='t', max=400, min=1, step=10), Output()), _dom_classes=('…"
      ]
     },
     "metadata": {},
     "output_type": "display_data"
    }
   ],
   "source": [
    "interactive(lambda t=0: plot_distribution(start_t,end_t,step_t,t,X_true,obs,Sample,pred), t=(start_t,end_t,step_t*10))"
   ]
  },
  {
   "cell_type": "markdown",
   "metadata": {},
   "source": [
    "# Stochastic modelling of temperature in composite-tool system"
   ]
  },
  {
   "cell_type": "markdown",
   "metadata": {},
   "source": [
    "If we do the bootstrap for a system with n nodes using N particles. At one node (or potentially more than one), we have the a measurment of the temperature at each time step. The measurement sensor has some uncertainty as well. The following algorithm is used here to simulate temperature.\n",
    "\n",
    "![](Bootstrap_for_T.jpg)"
   ]
  },
  {
   "cell_type": "markdown",
   "metadata": {},
   "source": [
    "**Importing the FE simulation tool** <br>\n",
    "FE is used to generate data for our probabilistic modelling"
   ]
  },
  {
   "cell_type": "code",
   "execution_count": 33,
   "metadata": {},
   "outputs": [],
   "source": [
    "from ipynb.fs.full.FETemp import T_air, C, alpha_dot_func, alpha_func, Mesh, Mesh3, KCF, KCF3, Assemble, Assemble3\n",
    "from ipynb.fs.full.FETemp import plot_Temp, plot_T_alpha_el, plot_temp_error_shade, plot_alpha_error_shade, plot_node_temp_std\n",
    "from ipynb.fs.full.FETemp import FE"
   ]
  },
  {
   "cell_type": "markdown",
   "metadata": {},
   "source": [
    "**Proposed bootstrap filter for probabilistic modelling of temperature distirbution**"
   ]
  },
  {
   "cell_type": "code",
   "execution_count": 34,
   "metadata": {},
   "outputs": [],
   "source": [
    "# T_true is an array with shape (number_node,number_of time steps) coming from FE solution for the entire time\n",
    "# sensor_loc is a list of sensor locations with size (number_sensors)\n",
    "\n",
    "def Temp_bootstrap(sensor_loc_typ,sensor_loc_list,obs_sigma,T_sigma,alpha_sigma,alpha_dot_sigma,\n",
    "                   muT_sigma,mualpha_sigma,mualpha_dot_sigma,\n",
    "                   N,t_start,t_end,delt,Length_c,Length_t,num_el_c,num_el_t,\n",
    "                   Coords_start,air_temp_type,T_start,T_hold,T_const,T_rate,th1,th2,T_air_sigma,\n",
    "                   material_dict,\n",
    "                   Analysis,cri,Element_type,heat_gen,T_true,alpha_true,alpha_dot_true):\n",
    "\n",
    "    Length = Length_c + Length_t\n",
    "    num_el = num_el_c + num_el_t\n",
    "    # material properties sampling\n",
    "    # sampling\n",
    "    k_c = np.random.normal(material_dict['k_c_mean'],material_dict['k_c_sigma'],N)\n",
    "    rho_c = np.random.normal(material_dict['rho_c_mean'],material_dict['rho_c_sigma'],N)\n",
    "    Cp_c = np.random.normal(material_dict['Cp_c_mean'],material_dict['Cp_c_sigma'],N)\n",
    "    rho_r = np.random.normal(material_dict['rho_r_mean'],material_dict['rho_r_sigma'],N)\n",
    "    H_r = np.random.normal(material_dict['H_r_mean'],material_dict['H_r_sigma'],N)\n",
    "    nu_r = np.random.normal(material_dict['nu_r_mean'],material_dict['nu_r_sigma'],N)\n",
    "    h_c = np.random.normal(material_dict['h_c_mean'],material_dict['h_c_sigma'],N)\n",
    "    \n",
    "    k_t = np.random.normal(material_dict['k_t_mean'],material_dict['k_t_sigma'],N)\n",
    "    rho_t = np.random.normal(material_dict['rho_t_mean'],material_dict['rho_t_sigma'],N)\n",
    "    Cp_t = np.random.normal(material_dict['Cp_t_mean'],material_dict['Cp_t_sigma'],N)\n",
    "    h_t = np.random.normal(material_dict['h_t_mean'],material_dict['h_t_sigma'],N)\n",
    "    \n",
    "    # particles in FE\n",
    "    A1 = np.random.normal(material_dict['A1_mean'],material_dict['A1_sigma'],N)\n",
    "    A2 = np.random.normal(material_dict['A2_mean'],material_dict['A2_sigma'],N)\n",
    "    A3 = np.random.normal(material_dict['A3_mean'],material_dict['A3_sigma'],N)\n",
    "    dE1 = np.random.normal(material_dict['dE1_mean'],material_dict['dE1_sigma'],N)\n",
    "    dE2 = np.random.normal(material_dict['dE2_mean'],material_dict['dE2_sigma'],N)\n",
    "    dE3 = np.random.normal(material_dict['dE3_mean'],material_dict['dE3_sigma'],N)\n",
    "    BB = np.random.normal(material_dict['BB_mean'],material_dict['BB_sigma'],N)\n",
    "    a_c =  k_c/(rho_c*Cp_c)\n",
    "    b_c =  rho_r*H_r*nu_r/(rho_c*Cp_c)\n",
    "    Ch_c = h_c/k_c*a_c \n",
    "    a_t =  k_t/(rho_t*Cp_t)\n",
    "    b_t =  np.zeros(N,)\n",
    "    Ch_t = h_t/k_t*a_t\n",
    "       \n",
    "    \n",
    "    n = int(int(t_end-t_start)/delt + 1) # number of states\n",
    "    \n",
    "    if sensor_loc_typ == \"node\":\n",
    "        sensor_loc_n = sensor_loc_list # a list, node numbers\n",
    "        sensor_loc = [(i-1) * (Length/num_el) for i in sensor_loc_n] \n",
    "    elif sensor_loc_typ == \"loc\":\n",
    "        sensor_loc = sensor_loc_list # a list, location of sensor (m)\n",
    "        sensor_loc_n = [int(round(x /  (Length/num_el))) + 1 for x in sensor_loc] # sensor location node number\n",
    "\n",
    "    # Generating fake observations from T_true\n",
    "    # observations is an array with shape (number_sensors,number_timestep)\n",
    "    observations = np.zeros((len(sensor_loc_n),n)) # n is the number of time steps\n",
    "    for sens in range(len(sensor_loc_n)): # observations if we put the sensor at i location\n",
    "        observations[sens,:]  = T_true[sensor_loc_n[sens]-1,:] + np.random.normal(0,obs_sigma,n) \n",
    "        \n",
    "    # initialization, t=0\n",
    "    T_0_allp = np.ones((1,N)) \n",
    "    for node in range(0,num_el+1):\n",
    "        muT_mean = T_true[node,0]\n",
    "        T_0 = np.random.normal(muT_mean,muT_sigma,N) # N samples from mu ~ Normal(mu_mean,mu_sigma)\n",
    "        T_0_allp = np.append(T_0_allp,T_0.reshape(1,N), axis=0)  \n",
    "    T_old_allp = T_0_allp[1:,:]\n",
    "    T_all_ave =np.mean(T_old_allp,axis=1).reshape(num_el+1,1) #np.zeros((num_el+1,1))\n",
    "    T_all_var = np.zeros((num_el+1,1))\n",
    "    T_all_var.fill(muT_sigma)\n",
    "    \n",
    "    alpha_0_allp = np.ones((1,N)) \n",
    "    alpha_dot_0_allp = np.ones((1,N)) \n",
    "    for el in range(0,num_el):\n",
    "        mualpha_mean = alpha_true[el,0]\n",
    "        alpha_0 = np.random.normal(mualpha_mean,mualpha_sigma,N) # N samples from mu ~ Normal(mu_mean,mu_sigma)\n",
    "        alpha_0_allp = np.append(alpha_0_allp,alpha_0.reshape(1,N), axis=0) \n",
    "        mualpha_dot_mean = alpha_dot_true[el,0]\n",
    "        #alpha_dot_0 = np.random.normal(mualpha_dot_mean,mualpha_dot_sigma,N) # N samples from mu ~ Normal(mu_mean,mu_sigma)\n",
    "        alpha_dot_0 = halfnorm.rvs(loc = mualpha_dot_mean, scale = mualpha_dot_sigma, size = N)\n",
    "        alpha_dot_0_allp = np.append(alpha_dot_0_allp,alpha_dot_0.reshape(1,N), axis=0) \n",
    "    alpha_old_allp = alpha_0_allp[1:,:]\n",
    "    alpha_all_ave =np.mean(alpha_old_allp,axis=1).reshape(num_el,1)  # np.zeros((num_el,1))\n",
    "    alpha_all_var =np.zeros((num_el,1))\n",
    "    alpha_all_var.fill(mualpha_sigma)\n",
    "    alpha_dot_old_allp = alpha_dot_0_allp[1:,:]\n",
    "    alpha_dot_all_ave = np.mean(alpha_dot_old_allp,axis=1).reshape(num_el,1) # np.zeros((num_el,1))\n",
    "    alpha_dot_all_var =np.zeros((num_el,1))\n",
    "    alpha_dot_all_var.fill(mualpha_dot_sigma)\n",
    "    \n",
    "    for t in np.arange(t_start,t_end,delt):\n",
    "        # Solve one step of FE for each particle to obtain new T_mean\n",
    "        T_mean_allp = np.zeros((num_el+1,1))\n",
    "        alpha_mean_allp = np.zeros((num_el,1))\n",
    "        alpha_dot_mean_allp = np.zeros((num_el,1))\n",
    "        for p in range(0,N):\n",
    "            T_mean, Coords, alpha_mean, alpha_dot_mean = FE(t,t+delt,delt,Length_c,Length_t,num_el_c,num_el_t,\n",
    "                                                            Coords_start,\n",
    "                                                            air_temp_type,T_start,T_hold,\n",
    "                                                            T_const,T_rate,th1,th2,T_air_sigma,\n",
    "                                                            a_c[p],b_c[p],Ch_c[p],a_t[p],b_t[p],Ch_t[p],\n",
    "                                                            BB[p],A1[p],A2[p],A3[p],dE1[p],dE2[p],dE3[p],\n",
    "                                                            Analysis,cri,\n",
    "                                                            Element_type,heat_gen,\n",
    "                                                            T_old_allp[:,p].reshape(num_el+1,1),\n",
    "                                                            alpha_old_allp[:,p].reshape(num_el,1),\n",
    "                                                            alpha_dot_old_allp[:,p].reshape(num_el,1))\n",
    "            \n",
    "            T_mean_allp = np.append(T_mean_allp,T_mean[:,1].reshape(num_el+1,1),axis=1)\n",
    "            alpha_mean_allp = np.append(alpha_mean_allp,alpha_mean[:,1].reshape(num_el,1),axis=1)\n",
    "            alpha_dot_mean_allp = np.append(alpha_dot_mean_allp,alpha_dot_mean[:,1].reshape(num_el,1),axis=1)\n",
    "            \n",
    "        T_mean_allp = T_mean_allp[:,1:]\n",
    "        alpha_mean_allp = alpha_mean_allp[:,1:]\n",
    "        alpha_dot_mean_allp = alpha_dot_mean_allp[:,1:]\n",
    "\n",
    "        # Sampling the new particles for each node/element\n",
    "        T_new_allp = np.zeros((1,N))\n",
    "        for node in range(0,num_el+1):\n",
    "            T_new_node = np.random.normal(T_mean_allp[node,:],T_sigma,N)\n",
    "            T_new_allp = np.append(T_new_allp,T_new_node.reshape(1,N), axis=0)\n",
    "        alpha_new_allp = np.zeros((1,N))\n",
    "        alpha_dot_new_allp = np.zeros((1,N))\n",
    "        for el in range(0,num_el):\n",
    "            alpha_new_el =  np.random.normal(alpha_mean_allp[el,:],alpha_sigma,N) # alpha_mean_allp[el,:]\n",
    "            alpha_new_allp = np.append(alpha_new_allp,alpha_new_el.reshape(1,N), axis=0)\n",
    "            #alpha_dot_new_el = np.random.halfnormal(alpha_dot_mean_allp[el,:],alpha_dot_sigma,N) # alpha_dot_mean_allp[el,:] \n",
    "            alpha_dot_new_el = halfnorm.rvs(loc = alpha_dot_mean_allp[el,:], scale = alpha_dot_sigma, size = N)\n",
    "            alpha_dot_new_allp = np.append(alpha_dot_new_allp,alpha_dot_new_el.reshape(1,N), axis=0)\n",
    "             \n",
    "        \n",
    "        # weight calculations\n",
    "        Weight_allp = np.zeros((1,N))\n",
    "        for sens in range(len(sensor_loc_n)): # len(sensor_loc_n) = number of srensors\n",
    "            tn = int((t-t_start)/delt) # time step number\n",
    "            weight = sp.stats.norm.pdf(observations[sens,tn], T_new_allp[sensor_loc_n[sens],:], obs_sigma) # sp.stats.norm.pdf(observation[node], T_new_allp[node,:], obs_sigma) \n",
    "            Weight = weight / sum(weight) # normalizing the weights\n",
    "            Weight_allp = np.append(Weight_allp,Weight.reshape(1,N), axis=0)\n",
    "        Weight_allp = Weight_allp[1:,:]\n",
    "\n",
    "        # Resampling\n",
    "        s = 0\n",
    "        for i in range(len(sensor_loc_n)):\n",
    "            T_new_allp[sensor_loc_n[i],:] = np.random.choice(T_new_allp[sensor_loc_n[i],:], N, p=Weight_allp[s,:])\n",
    "            s +=1\n",
    "\n",
    "        # updating results\n",
    "        T_old_allp = T_new_allp[1:,:]\n",
    "        T_old_ave = np.mean(T_old_allp,axis=1)\n",
    "        T_old_var = np.var(T_old_allp, axis=1) \n",
    "        T_all_ave = np.append(T_all_ave,T_old_ave.reshape(num_el+1,1), axis=1)\n",
    "        T_all_var = np.append(T_all_var,T_old_var.reshape(num_el+1,1), axis=1)\n",
    "        \n",
    "        alpha_old_allp = alpha_new_allp[1:,:]\n",
    "        alpha_old_ave = np.mean(alpha_old_allp,axis=1)\n",
    "        alpha_old_var = np.var(alpha_old_allp, axis=1) \n",
    "        alpha_all_ave = np.append(alpha_all_ave,alpha_old_ave.reshape(num_el,1), axis=1)\n",
    "        alpha_all_var = np.append(alpha_all_var,alpha_old_var.reshape(num_el,1), axis=1)\n",
    "        \n",
    "        alpha_dot_old_allp = alpha_dot_new_allp[1:,:]\n",
    "        alpha_dot_old_ave = np.mean(alpha_dot_old_allp,axis=1)\n",
    "        alpha_dot_old_var = np.var(alpha_dot_old_allp, axis=1) \n",
    "        alpha_dot_all_ave = np.append(alpha_dot_all_ave,alpha_dot_old_ave.reshape(num_el,1), axis=1)\n",
    "        alpha_dot_all_var = np.append(alpha_dot_all_var,alpha_dot_old_var.reshape(num_el,1), axis=1)\n",
    "        \n",
    "        if int((t-t_start)/delt)%5 == 0:\n",
    "            clear_output(wait=True)\n",
    "            print (\"progress is : {}%\".format(round((t-t_start)/(t_end-t_start)*100,1)))\n",
    "        \n",
    "    #T_all_ave = T_all_ave[:,1:]\n",
    "    #T_all_var = T_all_var[:,1:]\n",
    "    \n",
    "    #alpha_all_ave = alpha_all_ave[:,1:]\n",
    "    #alpha_all_var = alpha_all_var[:,1:]\n",
    "    \n",
    "    #alpha_dot_all_ave = alpha_dot_all_ave[:,1:]\n",
    "    #alpha_dot_all_var = alpha_dot_all_var[:,1:]\n",
    "\n",
    "    return T_all_ave, T_all_var, Coords, alpha_all_ave, alpha_all_var, alpha_dot_all_ave, alpha_dot_all_var,"
   ]
  },
  {
   "cell_type": "markdown",
   "metadata": {},
   "source": [
    "## Examples"
   ]
  },
  {
   "cell_type": "markdown",
   "metadata": {},
   "source": [
    "### Example 1 : sensor measurements at two locations"
   ]
  },
  {
   "cell_type": "markdown",
   "metadata": {},
   "source": [
    "**Inputs**"
   ]
  },
  {
   "cell_type": "code",
   "execution_count": 35,
   "metadata": {},
   "outputs": [],
   "source": [
    "# geometry\n",
    "# composite\n",
    "Length_c = 0.030 # rod length (m)\n",
    "num_el_c = 10 # number of elements\n",
    "# tool\n",
    "Length_t = 0.015 # tool length (m)\n",
    "num_el_t = 5 # number of elements\n",
    "Coords_start = 0 # first node x coordinate\n",
    "sensor_loc_typ1 = \"node\" # \"node\" for ndoe numbers, \"loc\" for locations in meter\n",
    "sensor_loc_list1 = [6,13] # node numbers or location of snesors (m)\n",
    "\n",
    "t_start = 0 # start time (seconds)\n",
    "t_end = 60*60 # end time (seconds)\n",
    "delt = 1 # time step (seconds)\n",
    "n = int(int(t_end-t_start)/delt + 1) # number of states"
   ]
  },
  {
   "cell_type": "code",
   "execution_count": 36,
   "metadata": {},
   "outputs": [],
   "source": [
    "# analysis type\n",
    "Analysis = 'Forward';  # 'Backward' or 'Forward', Backward is Implicit Euler w/ Newton Raphson, Forward is Expicit Euler\n",
    "cri = 0.01 # convergence criteria value for Implicit analysis\n",
    "Element_type = 'Linear' # 'Linear' or 'Nonlinear'\n",
    "\n",
    "# heat generation switch\n",
    "heat_gen = 'Yes' # 'Yes' or 'No'\n",
    "\n",
    "# air temperautre\n",
    "air_temp_type = 'OneHold' # 'Constant', 'ConstantRate', 'OneHold'\n",
    "T_start = 20+273 # start air temperature (K)\n",
    "T_const = 180+273 # air consat temperate (for 'Constat' type) (K)\n",
    "T_rate = 0.5 # air temperature increase rate (for 'Constant_rate' type)\n",
    "T_hold = 170+273 # air hold temperate (for 'OneHold' type) (K)\n",
    "th1 = 70*60 # time for start of hold (for 'OneHold' type) (seconds)\n",
    "th2 = 170*60 # time for end of hold (for 'OneHold' type) (seconds)"
   ]
  },
  {
   "cell_type": "code",
   "execution_count": 37,
   "metadata": {},
   "outputs": [],
   "source": [
    "# initial condition\n",
    "num_el = num_el_c + num_el_t\n",
    "T_ini = np.ones((num_el+1,1))* T_air(0,air_temp_type,T_start,\n",
    "                                     T_hold,T_const,T_rate,th1,th2,T_air_sigma = 0) # initital temperature of material\n",
    "alpha_ini = np.zeros((num_el,1))\n",
    "alpha_dot_ini = np.zeros((num_el,1))"
   ]
  },
  {
   "cell_type": "code",
   "execution_count": 38,
   "metadata": {},
   "outputs": [],
   "source": [
    "# material properties, mean values\n",
    "rho_c_mean = 1463 # composites density (kg/m3) \n",
    "# --> 1463 for AS4/3501-6 composites (https://pdfs.semanticscholar.org/f069/9fb46a1958f250cc748a673e5a6b8e1910c6.pdf)\n",
    "#--> 1790 for AS4 carbon (https://www.900gpa.com/en/product/fiber/CF_001EF245BC?u=metric)\n",
    "k_c_mean = 0.65 # composites thermal conductivity (W/m K) \n",
    "# --> 0.65 for AS4/3501-6 composites (https://pdfs.semanticscholar.org/f069/9fb46a1958f250cc748a673e5a6b8e1910c6.pdf)\n",
    "#--> 6.83 for AS4 carbon (https://www.900gpa.com/en/product/fiber/CF_001EF245BC?u=metric)\n",
    "Cp_c_mean = 1200 # composite specific heat capacity (J/kg K) \n",
    "# --> 1200 for AS4/3501-6 composites (https://pdfs.semanticscholar.org/f069/9fb46a1958f250cc748a673e5a6b8e1910c6.pdf)\n",
    "# --> 1300 for AS4 Carbon (https://www.researchgate.net/figure/Specific-heat-capacity-of-AS4-carbon-fiber-PES-matrix-and-CF-PES-tape-fiber-volume_fig6_320801788)\n",
    "rho_r_mean = 1256 # resin density  (kg/m3), \n",
    "# -->1256 for 3501-6 (https://www.researchgate.net/figure/3-Properties-of-Hexcel-3501-6-Epoxy-Resin-17_tbl3_267585693)\n",
    "H_r_mean = 400e3 # resin heat of reasction per unit mass (J / kg)\n",
    "# --> 400*1000  for 3501-6 (https://books.google.ca/books?id=p__RBQAAQBAJ&pg=PA478&lpg=PA478&dq=resin+3501-6+heat+reaction+per+unit+mass&source=bl&ots=yzGE-Cu-Fo&sig=ACfU3U07FEurjhNeAVzwOKofNp-Y_zYDdw&hl=en&sa=X&ved=2ahUKEwjut6Lx2OboAhUMrp4KHf90BkAQ6AEwAHoECAsQLA#v=onepage&q=resin%203501-6%20heat%20reaction%20per%20unit%20mass&f=false)\n",
    "nu_r_mean = 0.33 # resin volume fraction in composite material \n",
    "# --> 0.33\n",
    "h_c_mean = 120; # convection heat trasnfer coefficient (W/ m2 K)\n",
    "# --> 120 in autoclave (https://www.semanticscholar.org/paper/HEAT-TRANSFER-COEFFICIENT-DISTRIBUTION-INSIDE-AN-Slesinger-Shimizu/b61dfa6b4811edb51b003e43cc61088f0d13e348)\n",
    "\n",
    "# tool properties\n",
    "rho_t_mean = 8150; # tool density (kg/m3) \n",
    "# -->  ~ 8150 for Invar (https://www.azom.com/properties.aspx?ArticleID=515)\n",
    "k_t_mean = 13; # tool thermal conductivity (W/m K) \n",
    "# --> ~13 for Invar (https://www.azom.com/properties.aspx?ArticleID=515)\n",
    "Cp_t_mean = 510; # tool specific heat capacity (J/kg K) \n",
    "# --> ~ 510 for Invar (https://www.azom.com/properties.aspx?ArticleID=515)\n",
    "h_t_mean = 100;\n",
    "\n",
    "# cure kenetic\n",
    "# Table 5.2 of S. Amini Niaki thesis for 3501-6\n",
    "A1_mean = 3.5017e7\n",
    "A2_mean = -3.3567e7\n",
    "A3_mean = 3.2667e3\n",
    "dE1_mean = 80700\n",
    "dE2_mean = 77800\n",
    "dE3_mean = 56600\n",
    "# Table 5.2 of S.A. Niaki thesis for 3501-6  \n",
    "BB_mean = 0.47\n"
   ]
  },
  {
   "cell_type": "code",
   "execution_count": 39,
   "metadata": {},
   "outputs": [],
   "source": [
    "# probabilistic modelling input parameters\n",
    "N = 100 # number of samples\n",
    " # uncertainty in measurements of temperature\n",
    "obs_sigma = 1\n",
    "# deterministc solutions uncertainties\n",
    "T_sigma = 0\n",
    "muT_sigma1 = 0\n",
    "alpha_sigma = 0\n",
    "mualpha_sigma = 0\n",
    "alpha_dot_sigma = 0\n",
    "mualpha_dot_sigma = 0\n",
    "# uncertainties in material properties\n",
    "rho_c_sigma = 3*2\n",
    "k_c_sigma = 0.05*2\n",
    "Cp_c_sigma = 10*2\n",
    "rho_r_sigma = 6*2\n",
    "H_r_sigma = 1000*2\n",
    "nu_r_sigma = 0.01*2\n",
    "h_c_sigma = 2*2\n",
    "rho_t_sigma = 3*2\n",
    "k_t_sigma = 0.05*2\n",
    "Cp_t_sigma = 10*2\n",
    "h_t_sigma = 2*2\n",
    "A1_sigma = 0.5e7*2\n",
    "A2_sigma = 0.3e7*2\n",
    "A3_sigma = 0.10e3*2\n",
    "dE1_sigma = 50*2\n",
    "dE2_sigma = 50*2\n",
    "dE3_sigma = 50*2\n",
    "BB_sigma = 0.01*2\n",
    "# uncertainty in air temperature\n",
    "T_air_sigma1 = 0\n",
    "\n",
    "a_c_mean =  k_c_mean/(rho_c_mean*Cp_c_mean)\n",
    "b_c_mean =  rho_r_mean*H_r_mean*nu_r_mean/(rho_c_mean*Cp_c_mean)\n",
    "Ch_c_mean = h_c_mean/k_c_mean*a_c_mean; \n",
    "\n",
    "a_t_mean =  k_t_mean/(rho_t_mean*Cp_t_mean);\n",
    "b_t_mean =  0;\n",
    "Ch_t_mean = h_t_mean/k_t_mean*a_t_mean; \n",
    "\n",
    "material_dict = {'k_c_mean':k_c_mean,'k_c_sigma':k_c_sigma,\n",
    "                 'rho_c_mean':rho_c_mean,'rho_c_sigma':rho_c_sigma,\n",
    "                 'Cp_c_mean':Cp_c_mean,'Cp_c_sigma':Cp_c_sigma,\n",
    "                 'rho_r_mean':rho_r_mean,'rho_r_sigma':rho_r_sigma,\n",
    "                 'H_r_mean':H_r_mean,'H_r_sigma':H_r_sigma,\n",
    "                 'nu_r_mean':nu_r_mean,'nu_r_sigma':nu_r_sigma,\n",
    "                 'h_c_mean':h_c_mean,'h_c_sigma':h_c_sigma,\n",
    "                 'k_t_mean':k_t_mean,'k_t_sigma':k_t_sigma,\n",
    "                 'rho_t_mean':rho_t_mean,'rho_t_sigma':rho_t_sigma,\n",
    "                 'Cp_t_mean':Cp_t_mean,'Cp_t_sigma':Cp_t_sigma,\n",
    "                 'h_t_mean':h_c_mean,'h_t_sigma':h_c_sigma,\n",
    "                 'A1_mean':A1_mean,'A1_sigma':A1_sigma,\n",
    "                 'A2_mean':A2_mean,'A2_sigma':A2_sigma,\n",
    "                 'A3_mean':A3_mean,'A3_sigma':A3_sigma,\n",
    "                 'dE1_mean':dE1_mean,'dE1_sigma':dE1_sigma,\n",
    "                 'dE2_mean':dE2_mean,'dE2_sigma':dE2_sigma,\n",
    "                 'dE3_mean':dE3_mean,'dE3_sigma':dE3_sigma,\n",
    "                 'BB_mean':BB_mean,'BB_sigma':BB_sigma,}"
   ]
  },
  {
   "cell_type": "markdown",
   "metadata": {},
   "source": [
    "**Generating synthetic data**"
   ]
  },
  {
   "cell_type": "code",
   "execution_count": 40,
   "metadata": {},
   "outputs": [
    {
     "name": "stdout",
     "output_type": "stream",
     "text": [
      "Run time (s):  4.459460400000012\n"
     ]
    }
   ],
   "source": [
    "# true temperature\n",
    "start = timeit.default_timer()\n",
    "\n",
    "T_true, Coords, alpha_true, alpha_dot_true, = FE(t_start,t_end,delt,Length_c,Length_t,num_el_c,num_el_t,\n",
    "                                                 Coords_start,air_temp_type,\n",
    "                                                 T_start,T_hold,T_const,T_rate,th1,th2,0,\n",
    "                                                 a_c_mean,b_c_mean,Ch_c_mean,a_t_mean,b_t_mean,Ch_t_mean,\n",
    "                                                 BB_mean,A1_mean,A2_mean,A3_mean,dE1_mean,dE2_mean,dE3_mean,\n",
    "                                                 Analysis,cri,Element_type,heat_gen,T_ini,alpha_ini,alpha_dot_ini)\n",
    "# obervations\n",
    "# fake observations are generated whiting Temp_bootstrap function. In case observation are to be given\n",
    "# by user, this function should be modified accordingly. \n",
    "\n",
    "stop = timeit.default_timer()\n",
    "print('Run time (s): ', stop - start)"
   ]
  },
  {
   "cell_type": "markdown",
   "metadata": {},
   "source": [
    "**Probabilistic modelling**"
   ]
  },
  {
   "cell_type": "code",
   "execution_count": 41,
   "metadata": {},
   "outputs": [
    {
     "name": "stdout",
     "output_type": "stream",
     "text": [
      "progress is : 99.9%\n",
      "Run time (s):  573.4531126\n"
     ]
    }
   ],
   "source": [
    "start = timeit.default_timer()\n",
    "\n",
    "T_mean_test1, T_var_test1, Coords_test1, \\\n",
    "alpha_mean_test1, alpha_var_test1, alpha_dot_mean_test1, \\\n",
    "alpha_dot_var_test1 = Temp_bootstrap(sensor_loc_typ1,sensor_loc_list1,obs_sigma,T_sigma,alpha_sigma,alpha_dot_sigma,\n",
    "                                    muT_sigma1,mualpha_sigma,mualpha_dot_sigma,\n",
    "                                    N,t_start,t_end,delt,Length_c,Length_t,num_el_c,num_el_t,\n",
    "                                    Coords_start,air_temp_type,T_start,T_hold,T_const,T_rate,th1,th2,T_air_sigma1,\n",
    "                                    material_dict,Analysis,cri,\n",
    "                                    Element_type,heat_gen,T_true,alpha_true,alpha_dot_true)\n",
    "\n",
    "stop = timeit.default_timer()\n",
    "print('Run time (s): ', stop - start)"
   ]
  },
  {
   "cell_type": "code",
   "execution_count": 42,
   "metadata": {},
   "outputs": [
    {
     "data": {
      "application/vnd.jupyter.widget-view+json": {
       "model_id": "b5b22aef5a104f33be480383605d2d20",
       "version_major": 2,
       "version_minor": 0
      },
      "text/plain": [
       "interactive(children=(FloatSlider(value=0.0, description='t', max=3600.0, step=180.0), Output()), _dom_classes…"
      ]
     },
     "metadata": {},
     "output_type": "display_data"
    }
   ],
   "source": [
    "interactive(lambda t=0: plot_temp_error_shade(t,t_start,t_end,delt,Coords_test1,T_mean_test1,T_var_test1,air_temp_type,\n",
    "                                              T_start,T_hold,T_const,T_rate,th1,th2,T_air_sigma1,T_ini,\n",
    "                                              sensor_loc_typ1,sensor_loc_list1,Length_c,Length_t,num_el_c,num_el_t),\n",
    "            t=(t_start,t_end,(t_end-t_start)/20))"
   ]
  },
  {
   "cell_type": "code",
   "execution_count": 45,
   "metadata": {},
   "outputs": [
    {
     "data": {
      "application/vnd.jupyter.widget-view+json": {
       "model_id": "c07196cf6080459c8d550d0805911a5c",
       "version_major": 2,
       "version_minor": 0
      },
      "text/plain": [
       "interactive(children=(Dropdown(description='node_number', options=(1, 2, 3, 4, 5, 6, 7, 8, 9, 10, 11, 12, 13, …"
      ]
     },
     "metadata": {},
     "output_type": "display_data"
    }
   ],
   "source": [
    "interactive(lambda node_number=1:plot_node_temp_std(node_number,T_mean_test1,T_var_test1,t_start,t_end,delt,air_temp_type,\n",
    "                                                     T_start,T_hold,T_const,T_rate,th1,th2,sensor_loc_typ1,\n",
    "                                                     sensor_loc_list1,Length_c,Length_t,num_el_c,num_el_t,T_air_sigma1),\n",
    "            node_number=range(1,num_el+2))"
   ]
  },
  {
   "cell_type": "markdown",
   "metadata": {},
   "source": [
    "### Example 2:  no sensor measurements"
   ]
  },
  {
   "cell_type": "code",
   "execution_count": 46,
   "metadata": {},
   "outputs": [],
   "source": [
    "sensor_loc_typ2 = \"node\" # \"node\" for ndoe numbers, \"loc\" for locations in meter\n",
    "sensor_loc_list2 = [] # node numbers or location of snesors (m)"
   ]
  },
  {
   "cell_type": "code",
   "execution_count": 49,
   "metadata": {},
   "outputs": [
    {
     "name": "stdout",
     "output_type": "stream",
     "text": [
      "Run time (s):  4.498092899999847\n"
     ]
    }
   ],
   "source": [
    "# Generating fake observation data\n",
    "# true temperature\n",
    "start = timeit.default_timer()\n",
    "\n",
    "T_true, Coords, alpha_true, alpha_dot_true, = FE(t_start,t_end,delt,Length_c,Length_t,num_el_c,num_el_t,\n",
    "                                                 Coords_start,air_temp_type,\n",
    "                                                 T_start,T_hold,T_const,T_rate,th1,th2,0,\n",
    "                                                 a_c_mean,b_c_mean,Ch_c_mean,a_t_mean,b_t_mean,Ch_t_mean,\n",
    "                                                 BB_mean,A1_mean,A2_mean,A3_mean,dE1_mean,dE2_mean,dE3_mean,\n",
    "                                                 Analysis,cri,Element_type,heat_gen,T_ini,alpha_ini,alpha_dot_ini)\n",
    "# obervations\n",
    "# fake observations are generated whiting Temp_bootstrap function. In case observation are to be given\n",
    "# by user, this function should be modified accordingly. \n",
    "\n",
    "stop = timeit.default_timer()\n",
    "print('Run time (s): ', stop - start)"
   ]
  },
  {
   "cell_type": "code",
   "execution_count": 50,
   "metadata": {},
   "outputs": [
    {
     "name": "stdout",
     "output_type": "stream",
     "text": [
      "progress is : 99.9%\n",
      "Run time (s):  543.3251000999999\n"
     ]
    }
   ],
   "source": [
    "start = timeit.default_timer()\n",
    "\n",
    "T_mean_test2, T_var_test2, Coords_test1, \\\n",
    "alpha_mean_test2, alpha_var_test2, alpha_dot_mean_test2, \\\n",
    "alpha_dot_var_test2 = Temp_bootstrap(sensor_loc_typ2,sensor_loc_list2,obs_sigma,T_sigma,alpha_sigma,alpha_dot_sigma,\n",
    "                                    muT_sigma1,mualpha_sigma,mualpha_dot_sigma,\n",
    "                                    N,t_start,t_end,delt,Length_c,Length_t,num_el_c,num_el_t,\n",
    "                                    Coords_start,air_temp_type,T_start,T_hold,T_const,T_rate,th1,th2,T_air_sigma1,\n",
    "                                    material_dict,Analysis,cri,\n",
    "                                    Element_type,heat_gen,T_true,alpha_true,alpha_dot_true)\n",
    "\n",
    "stop = timeit.default_timer()\n",
    "print('Run time (s): ', stop - start)"
   ]
  },
  {
   "cell_type": "code",
   "execution_count": 51,
   "metadata": {},
   "outputs": [
    {
     "data": {
      "application/vnd.jupyter.widget-view+json": {
       "model_id": "5ef07064cc7948e9b3d4e2fb2e7c652b",
       "version_major": 2,
       "version_minor": 0
      },
      "text/plain": [
       "interactive(children=(FloatSlider(value=0.0, description='t', max=3600.0, step=90.0), Output()), _dom_classes=…"
      ]
     },
     "metadata": {},
     "output_type": "display_data"
    }
   ],
   "source": [
    "interactive(lambda t=0: plot_temp_error_shade(t,t_start,t_end,delt,Coords_test1,T_mean_test2,T_var_test2*5,air_temp_type,\n",
    "                                              T_start,T_hold,T_const,T_rate,th1,th2,T_air_sigma1,T_ini,\n",
    "                                              sensor_loc_typ2,sensor_loc_list2,Length_c,Length_t,num_el_c,num_el_t),\n",
    "            t=(t_start,t_end,(t_end-t_start)/40))"
   ]
  },
  {
   "cell_type": "markdown",
   "metadata": {},
   "source": [
    "###  Example 3: no sensor measurements, no uncertainty of air temperature"
   ]
  },
  {
   "cell_type": "code",
   "execution_count": null,
   "metadata": {},
   "outputs": [],
   "source": [
    "sensor_loc_typ3 = \"node\" # \"node\" for ndoe numbers, \"loc\" for locations in meter\n",
    "sensor_loc_list3 = [] # node numbers or location of snesors (m)"
   ]
  },
  {
   "cell_type": "code",
   "execution_count": null,
   "metadata": {},
   "outputs": [],
   "source": [
    "# uncertainty in air temperature\n",
    "T_air_sigma3 = 0\n",
    "muT_sigma3 = 0"
   ]
  },
  {
   "cell_type": "code",
   "execution_count": null,
   "metadata": {},
   "outputs": [],
   "source": [
    "# Generating fake observation data\n",
    "# true temperature\n",
    "start = timeit.default_timer()\n",
    "\n",
    "T_true, Coords, alpha_true, alpha_dot_true, = FE(t_start,t_end,delt,Length_c,Length_t,num_el_c,num_el_t,\n",
    "                                                 Coords_start,air_temp_type,\n",
    "                                                 T_start,T_hold,T_const,T_rate,th1,th2,0,\n",
    "                                                 a_c_mean,b_c_mean,Ch_c_mean,a_t_mean,b_t_mean,Ch_t_mean,\n",
    "                                                 BB_mean,A1_mean,A2_mean,A3_mean,dE1_mean,dE2_mean,dE3_mean,\n",
    "                                                 Analysis,cri,Element_type,heat_gen,T_ini,alpha_ini,alpha_dot_ini)\n",
    "# obervations\n",
    "# fake observations are generated whiting Temp_bootstrap function. In case observation are to be given\n",
    "# by user, this function should be modified accordingly. \n",
    "\n",
    "stop = timeit.default_timer()\n",
    "print('Run time (s): ', stop - start)"
   ]
  },
  {
   "cell_type": "code",
   "execution_count": null,
   "metadata": {},
   "outputs": [],
   "source": [
    "start = timeit.default_timer()\n",
    "\n",
    "T_mean_test3, T_var_test3, Coords_test1, \\\n",
    "alpha_mean_test3, alpha_var_test3, alpha_dot_mean_test3, \\\n",
    "alpha_dot_var_test3 = Temp_bootstrap(sensor_loc_typ3,sensor_loc_list3,obs_sigma,T_sigma,alpha_sigma,alpha_dot_sigma,\n",
    "                                    muT_sigma3,mualpha_sigma,mualpha_dot_sigma,\n",
    "                                    N,t_start,t_end,delt,Length_c,Length_t,num_el_c,num_el_t,\n",
    "                                    Coords_start,air_temp_type,T_start,T_hold,T_const,T_rate,th1,th2,T_air_sigma3,\n",
    "                                    material_dict,Analysis,cri,\n",
    "                                    Element_type,heat_gen,T_true,alpha_true,alpha_dot_true)\n",
    "\n",
    "stop = timeit.default_timer()\n",
    "print('Run time (s): ', stop - start)"
   ]
  },
  {
   "cell_type": "code",
   "execution_count": null,
   "metadata": {},
   "outputs": [],
   "source": [
    "interactive(lambda t=0: plot_temp_error_shade(t,t_start,t_end,delt,Coords_test1,T_mean_test3,T_var_test3,air_temp_type,\n",
    "                                              T_start,T_hold,T_const,T_rate,th1,th2,T_air_sigma3,T_ini,\n",
    "                                              sensor_loc_typ3,sensor_loc_list3,Length_c,Length_t,num_el_c,num_el_t),\n",
    "            t=(t_start,t_end,(t_end-t_start)/40))"
   ]
  },
  {
   "cell_type": "markdown",
   "metadata": {},
   "source": [
    "###  Example 4: no sensor, only very high uncertainty in air temperature"
   ]
  },
  {
   "cell_type": "code",
   "execution_count": null,
   "metadata": {},
   "outputs": [],
   "source": [
    "sensor_loc_typ4 = \"node\" # \"node\" for ndoe numbers, \"loc\" for locations in meter\n",
    "sensor_loc_list4 = [] # node numbers or location of snesors (m)"
   ]
  },
  {
   "cell_type": "code",
   "execution_count": null,
   "metadata": {},
   "outputs": [],
   "source": [
    "obs_sigma = 1\n",
    "# deterministc solutions uncertainties\n",
    "T_sigma = 0\n",
    "muT_sigma4 = 0\n",
    "alpha_sigma = 0\n",
    "mualpha_sigma = 0\n",
    "alpha_dot_sigma = 0\n",
    "mualpha_dot_sigma = 0\n",
    "# uncertainties in material properties\n",
    "rho_c_sigma = 0\n",
    "k_c_sigma = 0\n",
    "Cp_c_sigma = 0\n",
    "rho_r_sigma = 0\n",
    "H_r_sigma = 0\n",
    "nu_r_sigma = 0\n",
    "h_c_sigma = 0\n",
    "rho_t_sigma = 0\n",
    "k_t_sigma = 0\n",
    "Cp_t_sigma = 0\n",
    "h_t_sigma = 0\n",
    "A1_sigma = 0\n",
    "A2_sigma = 0\n",
    "A3_sigma = 0\n",
    "dE1_sigma = 0\n",
    "dE2_sigma = 0\n",
    "dE3_sigma = 0\n",
    "BB_sigma = 0\n",
    "# uncertainty in air temperature\n",
    "T_air_sigma4 = 20\n",
    "\n",
    "a_c_mean =  k_c_mean/(rho_c_mean*Cp_c_mean)\n",
    "b_c_mean =  rho_r_mean*H_r_mean*nu_r_mean/(rho_c_mean*Cp_c_mean)\n",
    "Ch_c_mean = h_c_mean/k_c_mean*a_c_mean; \n",
    "\n",
    "a_t_mean =  k_t_mean/(rho_t_mean*Cp_t_mean);\n",
    "b_t_mean =  0;\n",
    "Ch_t_mean = h_t_mean/k_t_mean*a_t_mean; \n",
    "\n",
    "material_dict = {'k_c_mean':k_c_mean,'k_c_sigma':k_c_sigma,\n",
    "                 'rho_c_mean':rho_c_mean,'rho_c_sigma':rho_c_sigma,\n",
    "                 'Cp_c_mean':Cp_c_mean,'Cp_c_sigma':Cp_c_sigma,\n",
    "                 'rho_r_mean':rho_r_mean,'rho_r_sigma':rho_r_sigma,\n",
    "                 'H_r_mean':H_r_mean,'H_r_sigma':H_r_sigma,\n",
    "                 'nu_r_mean':nu_r_mean,'nu_r_sigma':nu_r_sigma,\n",
    "                 'h_c_mean':h_c_mean,'h_c_sigma':h_c_sigma,\n",
    "                 'k_t_mean':k_t_mean,'k_t_sigma':k_t_sigma,\n",
    "                 'rho_t_mean':rho_t_mean,'rho_t_sigma':rho_t_sigma,\n",
    "                 'Cp_t_mean':Cp_t_mean,'Cp_t_sigma':Cp_t_sigma,\n",
    "                 'h_t_mean':h_c_mean,'h_t_sigma':h_c_sigma,\n",
    "                 'A1_mean':A1_mean,'A1_sigma':A1_sigma,\n",
    "                 'A2_mean':A2_mean,'A2_sigma':A2_sigma,\n",
    "                 'A3_mean':A3_mean,'A3_sigma':A3_sigma,\n",
    "                 'dE1_mean':dE1_mean,'dE1_sigma':dE1_sigma,\n",
    "                 'dE2_mean':dE2_mean,'dE2_sigma':dE2_sigma,\n",
    "                 'dE3_mean':dE3_mean,'dE3_sigma':dE3_sigma,\n",
    "                 'BB_mean':BB_mean,'BB_sigma':BB_sigma,}"
   ]
  },
  {
   "cell_type": "code",
   "execution_count": null,
   "metadata": {},
   "outputs": [],
   "source": [
    "# Generating fake observation data\n",
    "# true temperature\n",
    "start = timeit.default_timer()\n",
    "\n",
    "T_true, Coords, alpha_true, alpha_dot_true, = FE(t_start,t_end,delt,Length_c,Length_t,num_el_c,num_el_t,\n",
    "                                                 Coords_start,air_temp_type,\n",
    "                                                 T_start,T_hold,T_const,T_rate,th1,th2,0,\n",
    "                                                 a_c_mean,b_c_mean,Ch_c_mean,a_t_mean,b_t_mean,Ch_t_mean,\n",
    "                                                 BB_mean,A1_mean,A2_mean,A3_mean,dE1_mean,dE2_mean,dE3_mean,\n",
    "                                                 Analysis,cri,Element_type,heat_gen,T_ini,alpha_ini,alpha_dot_ini)\n",
    "# obervations\n",
    "# fake observations are generated whiting Temp_bootstrap function. In case observation are to be given\n",
    "# by user, this function should be modified accordingly. \n",
    "\n",
    "stop = timeit.default_timer()\n",
    "print('Run time (s): ', stop - start)"
   ]
  },
  {
   "cell_type": "code",
   "execution_count": null,
   "metadata": {},
   "outputs": [],
   "source": [
    "start = timeit.default_timer()\n",
    "\n",
    "T_mean_test4, T_var_test4, Coords_test1, \\\n",
    "alpha_mean_test4, alpha_var_test4, alpha_dot_mean_test4, \\\n",
    "alpha_dot_var_test4 = Temp_bootstrap(sensor_loc_typ4,sensor_loc_list4,obs_sigma,T_sigma,alpha_sigma,alpha_dot_sigma,\n",
    "                                    muT_sigma4,mualpha_sigma,mualpha_dot_sigma,\n",
    "                                    N,t_start,t_end,delt,Length_c,Length_t,num_el_c,num_el_t,\n",
    "                                    Coords_start,air_temp_type,T_start,T_hold,T_const,T_rate,th1,th2,T_air_sigma4,\n",
    "                                    material_dict,Analysis,cri,\n",
    "                                    Element_type,heat_gen,T_true,alpha_true,alpha_dot_true)\n",
    "\n",
    "stop = timeit.default_timer()\n",
    "print('Run time (s): ', stop - start)"
   ]
  },
  {
   "cell_type": "code",
   "execution_count": null,
   "metadata": {},
   "outputs": [],
   "source": [
    "interactive(lambda t=0: plot_temp_error_shade(t,t_start,t_end,delt,Coords_test1,T_mean_test4,T_var_test4,air_temp_type,\n",
    "                                              T_start,T_hold,T_const,T_rate,th1,th2,T_air_sigma4,T_ini,\n",
    "                                              sensor_loc_typ4,sensor_loc_list4,Length_c,Length_t,num_el_c,num_el_t),\n",
    "            t=(t_start,t_end,(t_end-t_start)/40))"
   ]
  },
  {
   "cell_type": "code",
   "execution_count": null,
   "metadata": {},
   "outputs": [],
   "source": [
    "'''interactive(lambda t=0: plot_alpha_error_shade(t,t_start,t_end,delt,Coords_test,alpha_mean_test4,alpha_var_test4,air_temp_type,\n",
    "                                              T_start,T_hold,T_const,T_rate,th1,th2,T_air_sigma4,T_ini,\n",
    "                                              sensor_loc_typ4,sensor_loc_list3,Length,num_el),\n",
    "            t=(t_start,t_end,(t_end-t_start)/20))'''"
   ]
  },
  {
   "cell_type": "code",
   "execution_count": null,
   "metadata": {},
   "outputs": [],
   "source": [
    "'''# rate of degree of cure (graph labels are not correct)\n",
    "interactive(lambda t=0: plot_alpha_error_shade(t,t_start,t_end,delt,Coords_test,alpha_dot_mean_test4,alpha_dot_var_test4,air_temp_type,\n",
    "                                              T_start,T_hold,T_const,T_rate,th1,th2,T_air_sigma4,T_ini,\n",
    "                                              sensor_loc_typ4,sensor_loc_list4,Length,num_el),\n",
    "            t=(t_start,t_end,(t_end-t_start)/20))'''"
   ]
  },
  {
   "cell_type": "markdown",
   "metadata": {},
   "source": [
    "####  Example 5: no sensor, only very high uncertainty in air temperature, 30 elements"
   ]
  },
  {
   "cell_type": "code",
   "execution_count": null,
   "metadata": {},
   "outputs": [],
   "source": [
    "sensor_loc_typ5 = \"node\" # \"node\" for ndoe numbers, \"loc\" for locations in meter\n",
    "sensor_loc_list5 = [] # node numbers or location of snesors (m)"
   ]
  },
  {
   "cell_type": "code",
   "execution_count": null,
   "metadata": {},
   "outputs": [],
   "source": [
    "num_el_c5 = 10\n",
    "num_el_t5 = 5\n",
    "num_el5 = num_el_c5 + num_el_t5\n",
    "# initial condition\n",
    "num_el = num_el_c + num_el_t\n",
    "T_ini = np.ones((num_el5+1,1))* T_air(0,air_temp_type,T_start,\n",
    "                                     T_hold,T_const,T_rate,th1,th2,T_air_sigma = 0) # initital temperature of material\n",
    "alpha_ini = np.zeros((num_el5,1))\n",
    "alpha_dot_ini = np.zeros((num_el5,1))"
   ]
  },
  {
   "cell_type": "code",
   "execution_count": null,
   "metadata": {},
   "outputs": [],
   "source": [
    "# Generating fake observation data\n",
    "# true temperature\n",
    "start = timeit.default_timer()\n",
    "\n",
    "T_true, Coords5, alpha_true, alpha_dot_true, = FE(t_start,t_end,delt,Length_c,Length_t,num_el_c5,num_el_t5,\n",
    "                                                  Coords_start,air_temp_type,\n",
    "                                                 T_start,T_hold,T_const,T_rate,th1,th2,0,\n",
    "                                                 a_c_mean,b_c_mean,Ch_c_mean,a_t_mean,b_t_mean,Ch_t_mean,\n",
    "                                                 BB_mean,A1_mean,A2_mean,A3_mean,dE1_mean,dE2_mean,dE3_mean,\n",
    "                                                 Analysis,cri,Element_type,heat_gen,T_ini,alpha_ini,alpha_dot_ini)\n",
    "# obervations\n",
    "# fake observations are generated whiting Temp_bootstrap function. In case observation are to be given\n",
    "# by user, this function should be modified accordingly. \n",
    "\n",
    "stop = timeit.default_timer()\n",
    "print('Run time (s): ', stop - start)"
   ]
  },
  {
   "cell_type": "code",
   "execution_count": null,
   "metadata": {},
   "outputs": [],
   "source": [
    "start = timeit.default_timer()\n",
    "\n",
    "T_mean_test5, T_var_test5, Coords_test5, \\\n",
    "alpha_mean_test5, alpha_var_test5, alpha_dot_mean_test5, \\\n",
    "alpha_dot_var_test5 = Temp_bootstrap(sensor_loc_typ5,sensor_loc_list5,obs_sigma,T_sigma,alpha_sigma,alpha_dot_sigma,\n",
    "                                    muT_sigma4,mualpha_sigma,mualpha_dot_sigma,\n",
    "                                    N,t_start,t_end,delt,Length_c,Length_t,num_el_c5,num_el_t5,\n",
    "                                    Coords_start,air_temp_type,T_start,T_hold,T_const,T_rate,th1,th2,T_air_sigma4,\n",
    "                                    material_dict,Analysis,cri,\n",
    "                                    Element_type,heat_gen,T_true,alpha_true,alpha_dot_true)\n",
    "\n",
    "stop = timeit.default_timer()\n",
    "print('Run time (s): ', stop - start)"
   ]
  },
  {
   "cell_type": "code",
   "execution_count": null,
   "metadata": {},
   "outputs": [],
   "source": [
    "interactive(lambda t=0: plot_temp_error_shade(t,t_start,t_end,delt,Coords_test5,T_mean_test5,T_var_test5,air_temp_type,\n",
    "                                              T_start,T_hold,T_const,T_rate,th1,th2,T_air_sigma4,T_ini,\n",
    "                                              sensor_loc_typ5,sensor_loc_list5,Length_c,Length_t,num_el_c,num_el_t),\n",
    "            t=(t_start,t_end,(t_end-t_start)/40))"
   ]
  },
  {
   "cell_type": "markdown",
   "metadata": {},
   "source": [
    "####  Example 6: no sensor, only very high uncertainty in air temperature, constant temperature"
   ]
  },
  {
   "cell_type": "code",
   "execution_count": null,
   "metadata": {},
   "outputs": [],
   "source": [
    "# heat generation switch\n",
    "heat_gen6 = 'No' # 'Yes' or 'No'\n",
    "\n",
    "# air temperautre\n",
    "air_temp_type6 = 'Constant' # 'Constant', 'ConstantRate', 'OneHold'\n",
    "# initial condition\n",
    "num_el = num_el_c + num_el_t\n",
    "T_ini6 = np.ones((num_el+1,1))* (20+273)\n",
    "\n",
    "alpha_ini = np.zeros((num_el,1))\n",
    "alpha_dot_ini = np.zeros((num_el,1))\n"
   ]
  },
  {
   "cell_type": "code",
   "execution_count": null,
   "metadata": {},
   "outputs": [],
   "source": [
    "# Generating fake observation data\n",
    "# true temperature\n",
    "start = timeit.default_timer()\n",
    "\n",
    "T_true, Coords, alpha_true, alpha_dot_true, = FE(t_start,t_end,delt,Length_c,Length_t,num_el_c,num_el_t,\n",
    "                                                 Coords_start,air_temp_type6,\n",
    "                                                 T_start,T_hold,T_const,T_rate,th1,th2,0,\n",
    "                                                 a_c_mean,b_c_mean,Ch_c_mean,a_t_mean,b_t_mean,Ch_t_mean,\n",
    "                                                 BB_mean,A1_mean,A2_mean,A3_mean,dE1_mean,dE2_mean,dE3_mean,\n",
    "                                                 Analysis,cri,Element_type,heat_gen6,T_ini6,alpha_ini,alpha_dot_ini)\n",
    "# obervations\n",
    "# fake observations are generated whiting Temp_bootstrap function. In case observation are to be given\n",
    "# by user, this function should be modified accordingly. \n",
    "\n",
    "stop = timeit.default_timer()\n",
    "print('Run time (s): ', stop - start)"
   ]
  },
  {
   "cell_type": "code",
   "execution_count": null,
   "metadata": {},
   "outputs": [],
   "source": [
    "start = timeit.default_timer()\n",
    "\n",
    "T_mean_test6, T_var_test6, Coords_test1, \\\n",
    "alpha_mean_test6, alpha_var_test6, alpha_dot_mean_test6, \\\n",
    "alpha_dot_var_test6 = Temp_bootstrap(sensor_loc_typ4,sensor_loc_list4,obs_sigma,T_sigma,alpha_sigma,alpha_dot_sigma,\n",
    "                                    muT_sigma4,mualpha_sigma,mualpha_dot_sigma,\n",
    "                                    N,t_start,t_end,delt,Length_c,Length_t,num_el_c,num_el_t,\n",
    "                                    Coords_start,air_temp_type6,T_start,T_hold,T_const,T_rate,th1,th2,T_air_sigma4,\n",
    "                                    material_dict,Analysis,cri,\n",
    "                                    Element_type,heat_gen6,T_true,alpha_true,alpha_dot_true)\n",
    "\n",
    "stop = timeit.default_timer()\n",
    "print('Run time (s): ', stop - start)"
   ]
  },
  {
   "cell_type": "code",
   "execution_count": null,
   "metadata": {},
   "outputs": [],
   "source": [
    "interactive(lambda t=0: plot_temp_error_shade(t,t_start,t_end,delt,Coords_test1,T_mean_test6,T_var_test6,air_temp_type6,\n",
    "                                              T_start,T_hold,T_const,T_rate,th1,th2,T_air_sigma4,T_ini6,\n",
    "                                              sensor_loc_typ4,sensor_loc_list4,Length_c,Length_t,num_el_c,num_el_t),\n",
    "            t=(t_start,t_end,(t_end-t_start)/40))"
   ]
  },
  {
   "cell_type": "code",
   "execution_count": null,
   "metadata": {},
   "outputs": [],
   "source": []
  },
  {
   "cell_type": "code",
   "execution_count": null,
   "metadata": {},
   "outputs": [],
   "source": []
  }
 ],
 "metadata": {
  "kernelspec": {
   "display_name": "Python 3",
   "language": "python",
   "name": "python3"
  },
  "language_info": {
   "codemirror_mode": {
    "name": "ipython",
    "version": 3
   },
   "file_extension": ".py",
   "mimetype": "text/x-python",
   "name": "python",
   "nbconvert_exporter": "python",
   "pygments_lexer": "ipython3",
   "version": "3.7.4"
  },
  "toc": {
   "base_numbering": 1,
   "nav_menu": {
    "height": "159px",
    "width": "160px"
   },
   "number_sections": true,
   "sideBar": true,
   "skip_h1_title": false,
   "title_cell": "Table of Contents",
   "title_sidebar": "Contents",
   "toc_cell": false,
   "toc_position": {},
   "toc_section_display": true,
   "toc_window_display": false
  }
 },
 "nbformat": 4,
 "nbformat_minor": 2
}
